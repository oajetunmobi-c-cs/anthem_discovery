{
 "cells": [
  {
   "cell_type": "code",
   "execution_count": 2,
   "metadata": {
    "collapsed": true
   },
   "outputs": [],
   "source": [
    "%run ../master_scriptlets.ipynb"
   ]
  },
  {
   "cell_type": "code",
   "execution_count": 3,
   "metadata": {
    "collapsed": true
   },
   "outputs": [],
   "source": [
    "contract_name = 'Template'"
   ]
  },
  {
   "cell_type": "code",
   "execution_count": 4,
   "metadata": {
    "collapsed": true
   },
   "outputs": [],
   "source": [
    "tr = Transition(contract_name)"
   ]
  },
  {
   "cell_type": "code",
   "execution_count": null,
   "metadata": {},
   "outputs": [],
   "source": [
    "files = tr.discover.find_file('template', root_dir=tr.file_pm.data_path)\n",
    "files"
   ]
  },
  {
   "cell_type": "code",
   "execution_count": null,
   "metadata": {},
   "outputs": [],
   "source": [
    "line = files.iloc[0:1].values\n",
    "file = os.path.join(line.item(1), line.item(0))"
   ]
  },
  {
   "cell_type": "code",
   "execution_count": null,
   "metadata": {},
   "outputs": [],
   "source": [
    "tr.set_version('0.00')\n",
    "df = tr.set_source_contract(file, source_format='csv', sep=',', encoding='latin1', source_as_path=True, load=False)"
   ]
  },
  {
   "cell_type": "code",
   "execution_count": null,
   "metadata": {
    "collapsed": true
   },
   "outputs": [],
   "source": [
    "df = tr.get_source_data()"
   ]
  },
  {
   "cell_type": "code",
   "execution_count": null,
   "metadata": {
    "collapsed": true
   },
   "outputs": [],
   "source": [
    "# look at the data using the data dictionary and column filter. empty 'dtype' shows all types\n",
    "df_filtered = tr.clean.filter_columns(df, dtype=[])\n",
    "tr.discover.data_dictionary(df_filtered)"
   ]
  },
  {
   "cell_type": "code",
   "execution_count": null,
   "metadata": {
    "collapsed": true
   },
   "outputs": [],
   "source": [
    "tr.clean.filter_headers(df, dtype=[])"
   ]
  },
  {
   "cell_type": "code",
   "execution_count": null,
   "metadata": {
    "collapsed": true
   },
   "outputs": [],
   "source": [
    "# tr.set_cleaner(tr.clean.clean_header(df, inplace=True), save=False)\n",
    "\n",
    "# _ = tr.clean.auto_remove_columns(df, null_min=0.99)\n",
    "# tr.set_cleaner(tr.clean.get_auto_remove_settings(null_min=0.99))\n",
    "\n",
    "# _ = tr.clean.auto_to_category(df, unique_max=20, null_max=0.7)\n",
    "# tr.set_cleaner(tr.clean.get_auto_category_settings(unique_max=20, null_max=0.7))\n",
    "\n",
    "# tr.set_cleaner(tr.clean.remove_columns(df, headers=[''], inplace=True), save=False)\n",
    "\n",
    "# tr.set_cleaner(tr.clean.to_category_type(df, headers=[''], inplace=True), save=False)\n",
    "\n",
    "# bm = {1: True, 'Y': True}\n",
    "# tr.set_cleaner(tr.clean.to_bool_type(df, bool_map=bm, headers=[''], inplace=True), save=False)\n",
    "\n",
    "# tr.set_cleaner(tr.clean.to_date_type(df, headers=[''], inplace=True), save=False)\n",
    "\n",
    "# tr.set_cleaner(tr.clean.to_float_type(df, headers=[''], inplace=True), save=False)\n",
    "\n",
    "# tr.set_cleaner(tr.clean.to_int_type(df, headers=[''], inplace=True), save=False)\n",
    "\n",
    "# tr.set_cleaner(tr.clean.to_str_type(df, headers=[''], inplace=True), save=False)\n",
    "\n",
    "# tr.data_properties.save()"
   ]
  },
  {
   "cell_type": "code",
   "execution_count": null,
   "metadata": {
    "collapsed": true
   },
   "outputs": [],
   "source": [
    "# Create the excel data dictionary\n",
    "tr.create_data_dictionary(df)\n",
    "\n",
    "# save the clean file\n",
    "tr.save_clean_file(df)"
   ]
  },
  {
   "cell_type": "code",
   "execution_count": null,
   "metadata": {
    "collapsed": true
   },
   "outputs": [],
   "source": [
    "# check the results worked\n",
    "df = tr.load_clean_file()\n",
    "tr.discover.data_dictionary(df)"
   ]
  },
  {
   "cell_type": "code",
   "execution_count": null,
   "metadata": {
    "collapsed": true
   },
   "outputs": [],
   "source": [
    ""
   ]
  }
 ],
 "metadata": {
  "kernelspec": {
   "display_name": "Python 3",
   "language": "python",
   "name": "python3"
  },
  "language_info": {
   "codemirror_mode": {
    "name": "ipython",
    "version": 3
   },
   "file_extension": ".py",
   "mimetype": "text/x-python",
   "name": "python",
   "nbconvert_exporter": "python",
   "pygments_lexer": "ipython3",
   "version": "3.6.6"
  }
 },
 "nbformat": 4,
 "nbformat_minor": 2
}
